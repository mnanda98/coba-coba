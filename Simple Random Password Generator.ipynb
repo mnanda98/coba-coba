{
 "cells": [
  {
   "cell_type": "code",
   "execution_count": 1,
   "metadata": {},
   "outputs": [
    {
     "name": "stdout",
     "output_type": "stream",
     "text": [
      "Password:  +byFW#557:v?wq56:K#ICE?Qbs4vAu\n"
     ]
    }
   ],
   "source": [
    "import random\n",
    "\n",
    "length = 30\n",
    "lb = 33\n",
    "ub = 126\n",
    "x = '';\n",
    "\n",
    "for i in range(length):\n",
    "    x+= \"\"+chr(random.randint(33,126))\n",
    "    \n",
    "print(\"Password: \", x)"
   ]
  },
  {
   "cell_type": "code",
   "execution_count": null,
   "metadata": {},
   "outputs": [],
   "source": []
  }
 ],
 "metadata": {
  "kernelspec": {
   "display_name": "Python 3",
   "language": "python",
   "name": "python3"
  },
  "language_info": {
   "codemirror_mode": {
    "name": "ipython",
    "version": 3
   },
   "file_extension": ".py",
   "mimetype": "text/x-python",
   "name": "python",
   "nbconvert_exporter": "python",
   "pygments_lexer": "ipython3",
   "version": "3.7.1"
  }
 },
 "nbformat": 4,
 "nbformat_minor": 2
}
